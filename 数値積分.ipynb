{
 "cells": [
  {
   "cell_type": "code",
   "execution_count": 1,
   "metadata": {},
   "outputs": [
    {
     "data": {
      "text/plain": [
       "CompletedProcess(args=['jupyter', 'nbconvert', '--to', 'python', '数値積分.ipynb'], returncode=0)"
      ]
     },
     "execution_count": 1,
     "metadata": {},
     "output_type": "execute_result"
    }
   ],
   "source": [
    "import subprocess\n",
    "subprocess.run(['jupyter', 'nbconvert', '--to', 'python', '数値積分.ipynb'])"
   ]
  },
  {
   "cell_type": "markdown",
   "metadata": {},
   "source": [
    "# 数値積分\n",
    "\n",
    "\n",
    "数値積分の説明ために次の1～3次関数\n",
    "$$\\begin{eqnarray}\n",
    "y_a &=& x    \\\\\n",
    "y_b &=& x^2  \\\\ \n",
    "y_c &=& x^3  \\\\\n",
    "\\end{eqnarray}$$\n",
    "\n",
    "のそれぞれの積分範囲 $x=-1\\to x=1$ の積分\n",
    "\n",
    "$$\\begin{eqnarray}\n",
    "\\int_{-1}^{1}y_adx &=& 0  \\\\ \n",
    "\\int_{-1}^{1}y_bdx &=& 2/3 &=& 0.66666...  \\\\\n",
    "\\int_{-1}^{1}y_cdx &=& 0  \\\\\n",
    "\\end{eqnarray}$$\n",
    "\n",
    "を例として今後用いる。  \n",
    "上で行った積分は厳密値であり、これらを今後の数値計算の結果と比較する。\n"
   ]
  },
  {
   "cell_type": "code",
   "execution_count": 2,
   "metadata": {},
   "outputs": [],
   "source": [
    "y_a = lambda x : x\n",
    "y_b = lambda x : x**2\n",
    "y_c = lambda x : x**3\n",
    "x_0 = -1        # 積分の下端\n",
    "x_n = 1        # 積分の上端"
   ]
  },
  {
   "cell_type": "markdown",
   "metadata": {},
   "source": [
    "## 区分求積法\n",
    "一般に、定積分について、次のような関係が成立すると考えられる。\n",
    "\n",
    "$$\\int_{x_0}^{x_n}f(x)dx = \\lim_{n\\to\\infty}\\sum_{k=1}^{n}f(x_k)\\Delta x_{k}$$\n",
    "\n",
    "ただし、$x_k$とは積分範囲$x_0\\sim x_n$をn等分した分点であり、$\\Delta x_k\\equiv x_i-x_{i-1}=(x_n-x_0)/n$ である。  \n",
    "これを区分求積法という。  \n",
    "nを無限大とせず、有限の値で打ち切った場合は、  \n",
    "$$\\begin{equation}\n",
    "\\int_{x_0}^{x_n}f(x)dx \\simeq \\sum_{k=1}^{n}f(x_k)\\Delta x_{k}\n",
    "\\tag{1}\n",
    "\\end{equation}$$\n",
    "が得られる。  \n",
    "これは、面積を、有限の幅の長方形を並べたもので近似したということである。  \n",
    "(1)式を使って積分を実装したものが以下。"
   ]
  },
  {
   "cell_type": "code",
   "execution_count": 3,
   "metadata": {},
   "outputs": [
    {
     "name": "stdout",
     "output_type": "stream",
     "text": [
      "y_aの積分誤差 0.020000000000000094\n",
      "y_bの積分誤差 0.0001333333333335407\n",
      "y_cの積分誤差 0.020000000000000018\n"
     ]
    }
   ],
   "source": [
    "def int_quad(func,a,b,n) :   \n",
    "    '''int_quad(func,a,b,n)\n",
    "        渡された関数funcを区分求積で数値積分した結果を返す。\n",
    "        a,bはそれぞれ積分の下端と上端。nは分割数。\n",
    "    '''\n",
    "    dx = (b-a)/n   # 刻み幅\n",
    "    result = 0\n",
    "    x = lambda i : a+dx*i \n",
    "    for i in range(1,n+1) :\n",
    "        result += dx*func(x(i))\n",
    "    return result\n",
    "\n",
    "print('y_aの積分誤差', int_quad(y_a,x_0,x_n,100) - 0 )\n",
    "print('y_bの積分誤差', int_quad(y_b,x_0,x_n,100) - 2/3 )\n",
    "print('y_cの積分誤差', int_quad(y_c,x_0,x_n,100) - 0 )"
   ]
  },
  {
   "cell_type": "markdown",
   "metadata": {},
   "source": [
    "## 台形則\n",
    "$f_{line}(x)$を1次関数とする。$f_{line}(x)$の定積分を行うことは台形面積を計算することであるから\n",
    "\n",
    "$$\\begin{equation}\n",
    "\\int_{a}^{b}f_{line}(x)dx = (b-a)\\frac{f_{line}(a)+f_{line}(b)}{2}\n",
    "\\tag{2}\n",
    "\\end{equation}$$\n",
    "\n",
    "が厳密に成り立つ。  \n",
    "一般の関数$f(x)$の定積分についても、積分範囲をn等分し、それぞれの区間でf(x)を1次関数に近似して上の関係を用いれば  \n",
    "\n",
    "$$\\begin{eqnarray}\n",
    "\\int_{x_0}^{x_n}f(x)dx &\\simeq& \\sum_{i=1}^{n}(x_i-x_{i-1})\\frac{f(x_{i-1})+f(x_i)}{2}  \\\\\n",
    "&=& \\frac{x_n-x_0}{n}\\sum_{i=1}^{n}\\frac{f(x_{i-1})+f(x_i)}{2} \\\\\n",
    "&=& \\Delta x_k\\sum_{i=1}^{n}\\frac{f(x_{i-1})+f(x_i)}{2}\n",
    "\\tag{3}\n",
    "\\end{eqnarray}$$ \n",
    "\n",
    "という近似式が得られる。これを台形則という。  \n",
    "区分求積では長方形を並べて面積を近似したのに対し、(3)は台形を並べて近似している。  \n",
    "$n\\to\\infty$では、この関係は$\\simeq$でなく$=$の厳密式になる。 \n",
    "\n",
    "プラグラムに実装するには(3)式で十分だが、(3)式をちょっと変形すると\n",
    "\n",
    "$$\\begin{eqnarray}\n",
    "\\Delta x_k\\sum_{i=1}^{n}\\frac{f(x_{i-1})+f(x_i)}{2} &=& \\frac{\\Delta x_k}{2}f(x_0)+\\sum_{k=1}^{n-1}\\Delta x_kf(x_k)+\\frac{\\Delta x_k}{2}f(x_n) \\\\\n",
    "&=& \\frac{\\Delta x_k}{2}f(x_0)+\\sum_{k=1}^{n}\\Delta x_kf(x_k)-\\frac{\\Delta x_k}{2}f(x_n)\n",
    "\\tag{4}\n",
    "\\end{eqnarray}$$\n",
    " \n",
    "が得られ、この最右辺のΣの項は区分求積と同じ形であることが分かる。ゆえに、結局のところ台形則とは、区分求積に対して\n",
    "\n",
    "$$\\begin{equation}\n",
    "\\frac{\\Delta x_k}{2}(f(x_0)-f(x_n))\n",
    "\\tag{5}\n",
    "\\end{equation}$$\n",
    "\n",
    "という、両端についての補正項を加えたものだと言える。  \n",
    "(4)式を用いて$y_1(x),y_2(x),y_3(x)$を数値積分したものが以下。（区分求積を使いまわせばいいので一瞬で終わる）"
   ]
  },
  {
   "cell_type": "code",
   "execution_count": 4,
   "metadata": {},
   "outputs": [
    {
     "name": "stdout",
     "output_type": "stream",
     "text": [
      "y_aの積分誤差 9.367506770274758e-17\n",
      "y_bの積分誤差 0.0001333333333335407\n",
      "y_cの積分誤差 1.734723475976807e-17\n"
     ]
    }
   ],
   "source": [
    "def int_trapz(func,a,b,n) : \n",
    "    '''int_trapz(func,a,b,n)\n",
    "        渡された関数funcを台形則で数値積分した結果を返す。\n",
    "        a,bはそれぞれ積分の下端と上端。nは分割数。\n",
    "    '''\n",
    "    dx = (b-a)/n   # 刻み幅\n",
    "    return int_quad(func,a,b,n) + (dx/2)*(func(a)-func(b))  # 区分求積に補正項を加算\n",
    "\n",
    "print('y_aの積分誤差', int_trapz(y_a,x_0,x_n,100) - 0 )\n",
    "print('y_bの積分誤差', int_trapz(y_b,x_0,x_n,100) - 2/3 )\n",
    "print('y_cの積分誤差', int_trapz(y_c,x_0,x_n,100) - 0 )"
   ]
  },
  {
   "cell_type": "markdown",
   "metadata": {},
   "source": [
    "明らかに精度が上がっていることが分かる。  \n",
    "特に、$y_a = x$ の誤差が著しく減っているが、これは台形則がf(x)を区分ごとに1次関数に近似して積分を実行する方法であるために、そもそも1次関数に対しては近似でなく厳密な計算になるからである。（ごくわずかな誤差が生じているのは別の原因かと思われる。）  \n",
    "しかし一方で、2次関数 $y_b = x^2$ については誤差が区分求積のときと全く変わっていない。これは、\n",
    "$$f(x_0)=f(x_n)$$\n",
    "を満たすとき、補正項(5)式がゼロとなるからである。  \n",
    "このように、積分範囲の両端で被積分関数の値が一致する場合は区分求積と台形則は全く同じになる。そうでなくとも、両端の寄与が小さい場合は、区分求積と台形則の結果はあまり変わらない。\n",
    "\n",
    "\n",
    "scipyには台形則による数値積分を行ってくれる関数trapz()があるのでそれを用いることもできる。\n"
   ]
  },
  {
   "cell_type": "code",
   "execution_count": 5,
   "metadata": {},
   "outputs": [
    {
     "name": "stdout",
     "output_type": "stream",
     "text": [
      "y_1の積分誤差： -3.469446951953614e-18\n",
      "y_2の積分誤差： 0.0001360405400810949\n",
      "y_3の積分誤差： 1.0408340855860843e-17\n"
     ]
    }
   ],
   "source": [
    "import numpy as np\n",
    "from scipy import integrate\n",
    "\n",
    "n=100  # 分割数\n",
    "x = np.linspace(x_0, x_n, n)\n",
    "y_a_array = x\n",
    "y_b_array = x**2\n",
    "y_c_array = x**3\n",
    "\n",
    "print('y_1の積分誤差：', integrate.trapz(y_a_array,x) - 0)\n",
    "print('y_2の積分誤差：', integrate.trapz(y_b_array,x) -2/3)\n",
    "print('y_3の積分誤差：', integrate.trapz(y_c_array,x) - 0)"
   ]
  },
  {
   "cell_type": "markdown",
   "metadata": {},
   "source": [
    "（なぜか結果が微妙に異なる。）"
   ]
  },
  {
   "cell_type": "markdown",
   "metadata": {},
   "source": [
    "### 補足：シンプソン則\n",
    "\n",
    "2次関数の定積分についても(1)式のような厳密な関係式が存在し、シンプソンの公式と呼ばれる。(さらに高次のものも一般に存在することが示せる)  \n",
    "台形則の場合と同様に、各区間を2次で近似してシンプソン公式により数値積分を行うこともできる。  \n",
    "scipyのsimps関数を使って計算でき"
   ]
  },
  {
   "cell_type": "code",
   "execution_count": 6,
   "metadata": {
    "scrolled": true
   },
   "outputs": [
    {
     "name": "stdout",
     "output_type": "stream",
     "text": [
      "y_aの積分誤差： 3.642919299551295e-17\n",
      "y_bの積分誤差： 1.3741468695149806e-06\n",
      "y_cの積分誤差： -1.9081958235744878e-17\n"
     ]
    }
   ],
   "source": [
    "print('y_aの積分誤差：', integrate.simps(y_a_array,x) - 0)\n",
    "print('y_bの積分誤差：', integrate.simps(y_b_array,x) - 2/3)\n",
    "print('y_cの積分誤差：', integrate.simps(y_c_array,x) - 0)"
   ]
  },
  {
   "cell_type": "markdown",
   "metadata": {},
   "source": [
    "\n",
    "\n"
   ]
  },
  {
   "cell_type": "markdown",
   "metadata": {},
   "source": [
    "## 誤差\n",
    "\n",
    "台形則を用いた積分近似(2)式の誤差はおよそ\n",
    "\n",
    "$$\\begin{equation}\n",
    "-\\frac{(b-a)^2}{12n^2}[f'(b)-f'(a)]+O(\\frac{1}{n^4})\n",
    "\\tag{3}\n",
    "\\end{equation}$$\n",
    "\n",
    "と、$1/n^2$のオーダーになる。  \n",
    "シンプソンの場合は\n",
    "\n",
    "$$-\\frac{(b-a)^4}{180n^4}[f'''(b)-f'''(a)]+O(\\frac{1}{n^5})$$\n",
    "\n",
    "と、$1/n^4$のオーダーになる。  \n",
    "このように高次の近似ほど精度が良くなるが、積分範囲が $-\\infty～\\infty$ の場合においては例外的に台形則が良い結果を与えるらしい。(無限個の和をとることはできないので、和の範囲はどこかで打ち切る)\n",
    "\n"
   ]
  },
  {
   "cell_type": "markdown",
   "metadata": {},
   "source": [
    "## 2重指数関数型積分（DE）\n",
    "\n",
    "台形則を用いて数値積分を行う場合、(3)式より、積分範囲の両端の傾き$f'(a) , f'(b)$の差が大きいと誤差が大きくなってしまう。  \n",
    "ゆえに、$f'(x)$が積分の端で特異性を持つような場合などではそのまま台形則を使うのはまずそう。  \n",
    "そこで積分に変数変換を施して、特異性の無い形に直してから台形則を適用することを行う。  \n",
    "例えば、積分範囲が-1～1の積分\n",
    "\n",
    "$$S = \\int_{-1}^{1}f(x)dx$$\n",
    "\n",
    "に対しては $x = \\phi(t) = \\tanh(\\frac{\\pi}{2}\\sinh(t))$ と変換して\n",
    "\n",
    "$$S = \\int_{-\\infty}^{\\infty}f(\\phi(t))\\phi'(t)dt$$\n",
    "\n",
    "とした場合、この被積分関数は $t\\to\\pm\\infty$で\n",
    "\n",
    "$$ f(\\phi(t))\\phi'(t) \\sim \\exp\\{-c\\exp(-|t|)\\} \\to 0 $$\n",
    "\n",
    "と、指数の肩に指数という急速な減衰をする。この急速な減衰が特異性を無くす。  \n",
    "きざみ幅 $h$ の台形則を適用して  \n",
    "\n",
    "$$\\begin{eqnarray}\n",
    "S &\\simeq& h\\sum_{k=-\\infty}^{\\infty}f(\\phi(kh))\\phi'(kh) \\\\\n",
    "&=& \\frac{\\pi}{2}h\\sum_{k=-\\infty}^{\\infty}f(\\tanh(\\frac{\\pi}{2}\\sinh{kh}))\\frac{\\cosh(kh)}{\\cosh^{2}(\\frac{\\pi}{2}\\sinh(kh))} \\\\\n",
    "\\tag{4}\n",
    "\\end{eqnarray}$$\n",
    "\n",
    "となる。  \n",
    "台形則を適用して離散化したところだけでなく(4)式の無限和の打ち切りでも誤差が生じる。\n"
   ]
  },
  {
   "cell_type": "code",
   "execution_count": 7,
   "metadata": {},
   "outputs": [
    {
     "name": "stdout",
     "output_type": "stream",
     "text": [
      "y_aの積分誤差： 6.838893860458918e-17\n",
      "y_bの積分誤差： 1.1102230246251565e-16\n",
      "y_cの積分誤差： -5.843001479524177e-18\n"
     ]
    },
    {
     "name": "stderr",
     "output_type": "stream",
     "text": [
      "/home/yuichi/anaconda3/lib/python3.6/site-packages/ipykernel_launcher.py:10: RuntimeWarning: overflow encountered in cosh\n",
      "  # Remove the CWD from sys.path while we load stuff.\n",
      "/home/yuichi/anaconda3/lib/python3.6/site-packages/ipykernel_launcher.py:10: RuntimeWarning: overflow encountered in double_scalars\n",
      "  # Remove the CWD from sys.path while we load stuff.\n"
     ]
    }
   ],
   "source": [
    "def int_DE(func,a,b,n,N) :\n",
    "    '''int_DE(func,a,b,n,N)\n",
    "        渡された関数funcを2重指数関数型積分した結果を返す。\n",
    "        a,bはそれぞれ積分の下端と上端。nは分割数。和の範囲は第N項で打ち切る。\n",
    "    '''\n",
    "    result= 0\n",
    "    dx = (b-a)/n    # 刻み幅\n",
    "    for i in range(-N,N+1) :\n",
    "        sh = np.pi/2*np.sinh(i*dx)\n",
    "        result += np.pi/2*dx*func(np.tanh(sh))*np.cosh(i*dx)/(np.cosh(sh)**2)     \n",
    "    return result\n",
    "\n",
    "print('y_aの積分誤差：', int_DE(y_a,x_0,x_n,100,1000) - 0)\n",
    "print('y_bの積分誤差：', int_DE(y_b,x_0,x_n,100,1000) - 2/3)\n",
    "print('y_cの積分誤差：', int_DE(y_c,x_0,x_n,100,1000) - 0)"
   ]
  },
  {
   "cell_type": "markdown",
   "metadata": {},
   "source": [
    "### ガウス・ルジャンドル積分"
   ]
  },
  {
   "cell_type": "code",
   "execution_count": 8,
   "metadata": {},
   "outputs": [
    {
     "name": "stdout",
     "output_type": "stream",
     "text": [
      "y_1の積分誤差： -1.371515748194163e-16\n",
      "y_2の積分誤差： -6.328271240363392e-15\n",
      "y_3の積分誤差： -1.973247953923618e-17\n"
     ]
    }
   ],
   "source": [
    "def int_gauss(func,a,b,n) :\n",
    "    '''int_gauss(func,a,b,n)\n",
    "        渡された関数funcをガウス・ルジャンドル積分した結果を返す。\n",
    "        a,bはそれぞれ積分の下端と上端。nは分割数。\n",
    "    '''\n",
    "    x, w = np.polynomial.legendre.leggauss(n)\n",
    "    return (b-a)/2*sum( w * func((b-a)/2*x + (b+a)/2) )\n",
    "\n",
    "print('y_1の積分誤差：', int_gauss(y_a,x_0,x_n,100) - 0)\n",
    "print('y_2の積分誤差：', int_gauss(y_b,x_0,x_n,100) - 2/3)\n",
    "print('y_3の積分誤差：', int_gauss(y_c,x_0,x_n,100) - 0)"
   ]
  },
  {
   "cell_type": "code",
   "execution_count": null,
   "metadata": {},
   "outputs": [],
   "source": []
  },
  {
   "cell_type": "code",
   "execution_count": null,
   "metadata": {},
   "outputs": [],
   "source": []
  },
  {
   "cell_type": "code",
   "execution_count": null,
   "metadata": {},
   "outputs": [],
   "source": []
  }
 ],
 "metadata": {
  "kernelspec": {
   "display_name": "Python 3",
   "language": "python",
   "name": "python3"
  },
  "language_info": {
   "codemirror_mode": {
    "name": "ipython",
    "version": 3
   },
   "file_extension": ".py",
   "mimetype": "text/x-python",
   "name": "python",
   "nbconvert_exporter": "python",
   "pygments_lexer": "ipython3",
   "version": "3.6.6"
  }
 },
 "nbformat": 4,
 "nbformat_minor": 2
}
