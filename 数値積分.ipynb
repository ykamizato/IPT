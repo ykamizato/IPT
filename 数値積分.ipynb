{
 "cells": [
  {
   "cell_type": "markdown",
   "metadata": {},
   "source": [
    "1～3次関数\n",
    "$$\\begin{eqnarray}\n",
    "y_1 &=& x    \\\\\n",
    "y_2 &=& x^2  \\\\ \n",
    "y_3 &=& x^3  \\\\\n",
    "\\end{eqnarray}$$\n",
    "\n",
    "のそれぞれについてx=0からx=1までの積分の厳密値は\n",
    "\n",
    "$$\\begin{eqnarray}\n",
    "\\int_{0}^{1}y_1dx &=& 1/2 &=& 0.5  \\\\ \n",
    "\\int_{0}^{1}y_2dx &=& 1/3 &=& 0.33333...  \\\\\n",
    "\\int_{0}^{1}y_3dx &=& 1/4 &=& 0.25  \\\\\n",
    "\\end{eqnarray}$$\n",
    "\n",
    "となるが、同様の積分を数値計算で行い厳密値と比較する。\n"
   ]
  },
  {
   "cell_type": "markdown",
   "metadata": {},
   "source": [
    "## 台形則\n",
    "$f_{line}(x)$を1次関数とする。$f_{line}(x)$の定積分を行うことは台形面積を計算することであるから\n",
    "\n",
    "$$\\begin{equation}\n",
    "\\int_{x_0}^{x_1}f_{line}(x)dx = (x_1-x_0)\\frac{f_{line}(x_0)+f_{line}(x_1)}{2}\n",
    "\\tag{1}\n",
    "\\end{equation}$$\n",
    "\n",
    "が厳密に成り立つ。  \n",
    "この関係を用いると、一般の関数$f(x)$の定積分について次のような近似計算が考えられる。  \n",
    "nをn>>1の整数として\n",
    "\n",
    "$$\\begin{equation}\n",
    "\\int_{a}^{b}f(x)dx \\simeq \\frac{b-a}{n}\\sum_{i=1}^{n}\\frac{f(x_{i-1})+f(x_i)}{2}\n",
    "\\tag{2}\n",
    "\\end{equation}$$ \n",
    "\n",
    "つまり、積分範囲a～bをn個の区間に分割して、各区間それぞれにおいて関数f(x)を1次式で近似し、(1)式を用いているのである。  \n",
    "この方法で$y_1(x),y_2(x),y_3(x)$を数値積分したものが以下。"
   ]
  },
  {
   "cell_type": "code",
   "execution_count": 10,
   "metadata": {},
   "outputs": [
    {
     "name": "stdout",
     "output_type": "stream",
     "text": [
      "y_1の積分： 0.5000000000000001\n",
      "y_2の積分： 0.3333335000000001\n",
      "y_3の積分： 0.25000024999999987\n"
     ]
    }
   ],
   "source": [
    "y_1 = lambda x : x\n",
    "y_2 = lambda x : x**2\n",
    "y_3 = lambda x : x**3\n",
    "n=1000\n",
    "a = 0        # 積分の下端\n",
    "b = 1        # 積分の上端\n",
    "dx = (b-a)/n\n",
    "\n",
    "result_1 = dx * sum(y_1(dx*(i-1))+y_1(dx*i) for i in range(1,n+1)) / 2\n",
    "result_2 = dx * sum(y_2(dx*(i-1))+y_2(dx*i) for i in range(1,n+1)) / 2\n",
    "result_3 = dx * sum(y_3(dx*(i-1))+y_3(dx*i) for i in range(1,n+1)) / 2\n",
    "\n",
    "print('y_1の積分：', result_1)\n",
    "print('y_2の積分：', result_2)\n",
    "print('y_3の積分：', result_3)"
   ]
  },
  {
   "cell_type": "markdown",
   "metadata": {},
   "source": [
    "$y_1=x$は1次関数なので結果は厳密値と等しい。  \n",
    "\n",
    "scipyには台形則による数値積分を行ってくれる関数trapz()があるのでそれを用いることもできる。\n"
   ]
  },
  {
   "cell_type": "code",
   "execution_count": 2,
   "metadata": {},
   "outputs": [
    {
     "name": "stdout",
     "output_type": "stream",
     "text": [
      "y_1の積分： 0.5\n",
      "y_2の積分： 0.33335033840084355\n",
      "y_3の積分： 0.2500255076012652\n"
     ]
    }
   ],
   "source": [
    "import numpy as np\n",
    "from scipy import integrate\n",
    "\n",
    "x = np.linspace(a, b, n)\n",
    "y_1_array = x\n",
    "y_2_array = x**2\n",
    "y_3_array = x**3\n",
    "\n",
    "result_1 = integrate.trapz(y_1_array,x)\n",
    "result_2 = integrate.trapz(y_2_array,x)\n",
    "result_3 = integrate.trapz(y_3_array,x)\n",
    "\n",
    "print('y_1の積分：', result_1)\n",
    "print('y_2の積分：', result_2)\n",
    "print('y_3の積分：', result_3)"
   ]
  },
  {
   "cell_type": "markdown",
   "metadata": {},
   "source": [
    "（なぜか結果が少し異なる。）"
   ]
  },
  {
   "cell_type": "markdown",
   "metadata": {},
   "source": [
    "### 補足：シンプソン則\n",
    "\n",
    "2次関数の定積分についても(1)式のような厳密な関係式が存在し、シンプソンの公式と呼ばれる。(さらに高次のものも一般に存在することが示せる)  \n",
    "台形則の場合と同様に、各区間を2次で近似してシンプソン公式により数値積分を行うこともできる。  \n",
    "scipyのsimps関数を使って計算でき"
   ]
  },
  {
   "cell_type": "code",
   "execution_count": 3,
   "metadata": {},
   "outputs": [
    {
     "name": "stdout",
     "output_type": "stream",
     "text": [
      "y_1の積分： 0.5\n",
      "y_2の積分： 0.333333505101692\n",
      "y_3の積分： 0.2500002576525381\n"
     ]
    }
   ],
   "source": [
    "result_1 = integrate.simps(y_1_array,x)\n",
    "result_2 = integrate.simps(y_2_array,x)\n",
    "result_3 = integrate.simps(y_3_array,x)\n",
    "print('y_1の積分：', result_1)\n",
    "print('y_2の積分：', result_2)\n",
    "print('y_3の積分：', result_3)"
   ]
  },
  {
   "cell_type": "markdown",
   "metadata": {},
   "source": [
    "（なぜ$y_2(x)$の積分結果は厳密値と一致しない？）\n",
    "\n"
   ]
  },
  {
   "cell_type": "markdown",
   "metadata": {},
   "source": [
    "## 誤差\n",
    "\n",
    "台形則を用いた積分近似(2)式の誤差はおよそ\n",
    "\n",
    "$$\\begin{equation}\n",
    "-\\frac{(b-a)^2}{12n^2}[f'(b)-f'(a)]+O(\\frac{1}{n^4})\n",
    "\\tag{3}\n",
    "\\end{equation}$$\n",
    "\n",
    "と、$1/n^2$のオーダー。  \n",
    "シンプソンの場合は\n",
    "\n",
    "$$-\\frac{(b-a)^4}{180n^4}[f'''(b)-f'''(a)]+O(\\frac{1}{n^5})$$\n",
    "\n",
    "と、$1/n^4$のオーダーになる。  \n",
    "このように高次の近似ほど精度が良くなるが、積分範囲が $-\\infty～\\infty$ の場合においては例外的に台形則が良い結果を与えるらしい。(無限個の和をとることはできないので、和の範囲はどこかで打ち切る)\n",
    "\n"
   ]
  },
  {
   "cell_type": "markdown",
   "metadata": {},
   "source": [
    "## 2重指数関数型積分（DE）\n",
    "\n",
    "台形則を用いて数値積分を行う場合、(3)式より積分範囲の両端の傾き$f'(a) , f'(b)$の差が大きいと誤差が大きくなってしまう。  \n",
    "ゆえに$f'(x)$が積分の端で特異性を持つような場合などではそのまま台形則を使うのはまずそう。  \n",
    "そこで積分に変数変換を施して、特異性の無い形に直してから台形則を適用することを行う。  \n",
    "例えば、積分範囲が-1～1の積分\n",
    "\n",
    "$$S = \\int_{-1}^{1}f(x)dx$$\n",
    "\n",
    "に対しては $x = \\phi(t) = \\tanh(\\frac{\\pi}{2}\\sinh(t))$ と変換して\n",
    "\n",
    "$$S = \\int_{-\\infty}^{\\infty}f(\\phi(t))\\phi'(t)dt$$\n",
    "\n",
    "この被積分関数は $t\\to\\pm\\infty$で\n",
    "\n",
    "$$ f(\\phi(t))\\phi'(t) \\sim \\exp\\{-c\\exp(-|t|)\\} \\to 0 $$\n",
    "\n",
    "と、指数の肩に指数という急速な減衰をする。この急速な減衰が特異性を無くしている。  \n",
    "きざみ幅 $h$ の台形則を適用して  \n",
    "\n",
    "$$\\begin{eqnarray}\n",
    "S &\\simeq& h\\sum_{k=-\\infty}^{\\infty}f(\\phi(kh))\\phi'(kh) \\\\\n",
    "&=& \\frac{\\pi}{2}h\\sum_{k=-\\infty}^{\\infty}f(\\tanh(\\frac{\\pi}{2}\\sinh{kh}))\\frac{\\cosh(kh)}{\\cosh^{2}(\\frac{\\pi}{2}\\sinh(kh))} \\\\\n",
    "\\tag{4}\n",
    "\\end{eqnarray}$$\n",
    "\n",
    "となる。  \n",
    "台形則を適用して離散化したところだけでなく(4)式の無限和の打ち切りでも誤差が生じる。\n"
   ]
  },
  {
   "cell_type": "code",
   "execution_count": 30,
   "metadata": {},
   "outputs": [
    {
     "name": "stdout",
     "output_type": "stream",
     "text": [
      "0.6666666666666659\n"
     ]
    }
   ],
   "source": [
    "result= 0\n",
    "N=5000\n",
    "for i in range(-N,N+1) :\n",
    "    sh = np.pi/2*np.sinh(i*dx)\n",
    "    result += np.pi/2*dx*y_2(np.tanh(sh))*np.cosh(i*dx)/(np.cosh(sh)**2) \n",
    "    \n",
    "print(result)"
   ]
  },
  {
   "cell_type": "markdown",
   "metadata": {},
   "source": [
    "### ガウス・ルジャンドル積分"
   ]
  },
  {
   "cell_type": "code",
   "execution_count": 5,
   "metadata": {},
   "outputs": [
    {
     "name": "stdout",
     "output_type": "stream",
     "text": [
      "y_1の積分： 0.5\n",
      "y_2の積分： 0.33333333333333254\n",
      "y_3の積分： 0.24999999999999886\n"
     ]
    }
   ],
   "source": [
    "t, w = np.polynomial.legendre.leggauss(n)\n",
    "f_1 = lambda t : t\n",
    "f_2 = lambda t : t**2\n",
    "f_3 = lambda t : t**3\n",
    "result_1 = (b-a)/2*sum(w * f_1((b-a)/2*t + (b+a)/2))\n",
    "result_2 = (b-a)/2*sum(w * f_2((b-a)/2*t + (b+a)/2))\n",
    "result_3 = (b-a)/2*sum(w * f_3((b-a)/2*t + (b+a)/2))\n",
    "print('y_1の積分：', result_1)\n",
    "print('y_2の積分：', result_2)\n",
    "print('y_3の積分：', result_3)"
   ]
  },
  {
   "cell_type": "code",
   "execution_count": null,
   "metadata": {},
   "outputs": [],
   "source": []
  }
 ],
 "metadata": {
  "kernelspec": {
   "display_name": "Python 3",
   "language": "python",
   "name": "python3"
  },
  "language_info": {
   "codemirror_mode": {
    "name": "ipython",
    "version": 3
   },
   "file_extension": ".py",
   "mimetype": "text/x-python",
   "name": "python",
   "nbconvert_exporter": "python",
   "pygments_lexer": "ipython3",
   "version": "3.6.6"
  }
 },
 "nbformat": 4,
 "nbformat_minor": 2
}
