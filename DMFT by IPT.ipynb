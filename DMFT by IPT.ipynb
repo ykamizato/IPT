{
 "cells": [
  {
   "cell_type": "markdown",
   "metadata": {},
   "source": [
    "1不純物アンダーソンモデルの不純物に対するグリーン関数は\n",
    " \n",
    "$$G_f(i\\omega_n)=\\frac{1}{i\\omega_n-E_f-\\Sigma_f(i\\omega_n)-\\Delta(i\\omega_n)}$$\n",
    " \n",
    "$\\Delta(i\\omega_n)$は、着目している不純物とそのまわりとの混成の寄与を表す。  \n",
    "分母から自己エネルギーを除いた\n",
    " \n",
    "$$\\begin{eqnarray}\n",
    "g(i\\omega_n) &\\equiv& \\frac{1}{i\\omega_n-E_f-\\Delta(i\\omega_n)}\n",
    "&=& \\frac{1}{1/G(i\\omega_n)+\\Sigma_f(i\\omega_n)}\n",
    "\\tag{1}\n",
    "\\end{eqnarray}$$\n",
    " \n",
    "を定義する。\n",
    " ※$g(i\\omega_n)$には混成の寄与が入っているので、自由粒子のグリーン関数ではない。\n",
    " \n",
    "元の格子系のグリーン関数\n",
    " \n",
    "$$G(k,i\\omega_n)=\\frac{1}{i\\omega_n-\\epsilon_k-\\Sigma(k,i\\omega_n)}$$\n",
    "\n",
    "について、\n",
    " \n",
    "$$\\begin{equation}\n",
    "\\tag{2}\n",
    "\\Sigma(k,i\\omega_n) \\sim \\Sigma_f(i\\omega_n)\n",
    "\\end{equation}$$\n",
    " \n",
    "と考えて（⇒波数依存性を無視している）\n",
    " \n",
    "$$G(k,i\\omega_n)=\\frac{1}{i\\omega_n-\\epsilon_k-\\Sigma_f(i\\omega_n)}$$\n",
    "とする。  \n",
    "そして、1サイトグリーン関数は\n",
    " \n",
    "$$\\begin{eqnarray}\n",
    "G_i(i\\omega_n) &=& <G(k,i\\omega_n)>_k\n",
    "&=& \\int_{-\\infty}^{\\infty}d\\epsilon\\rho(\\epsilon)G(k,i\\omega_n) \n",
    "\\tag{3}\n",
    "\\end{eqnarray}$$\n",
    " \n",
    "で求まる。$<\\sim>_k$は波数についての平均。$\\rho(\\epsilon)$は状態密度。  \n",
    "この1サイトグリーン関数が先ほどの不純物のグリーン関数に等しいと考える。\n",
    " \n",
    "$$G_f(i\\omega_n) \\sim G_i(i\\omega_n)$$\n",
    " \n",
    "ゆえに(1)式より$g(i\\omega_n)$が求まる。  \n",
    "不純物ソルバーによってこの$g(i\\omega_n)$から新たに不純物の自由エネルギー$\\Sigma_f^{(new)}(i\\omega_n)$を求め、この新しい$\\Sigma_f^{(new)}(i\\omega_n)$を用いて再度(2)式から同じことを繰り返すことができる。  \n",
    " \n",
    "以上の自己無撞着計算を行う。\n",
    "ただし、状態密度は半径2の半円とする。\n",
    "$$\\rho(\\epsilon) = \\frac{1}{2\\pi}\\sqrt{4-\\epsilon^2}$$\n",
    "また。不純物ソルバーとしてIPTを採用し、$g(i\\omega_n)$から$\\Sigma_f^{(new)}(i\\omega_n)$は、\n",
    "$$\\begin{equation}\n",
    "\\tag{4}\n",
    "\\Sigma_f^{(new)}(\\tau) = U^{2}g(\\tau)^{2}g(\\beta-\\tau)\n",
    "\\end{equation}$$\n",
    "で求める。$\\tau$表示での関係なのでフーリエ変換を行う必要がある。"
   ]
  },
  {
   "cell_type": "code",
   "execution_count": 22,
   "metadata": {
    "scrolled": true
   },
   "outputs": [],
   "source": [
    "import numpy as np\n",
    "from scipy.interpolate import interp1d\n",
    "from matplotlib import pyplot as plt"
   ]
  },
  {
   "cell_type": "code",
   "execution_count": 88,
   "metadata": {},
   "outputs": [
    {
     "name": "stdout",
     "output_type": "stream",
     "text": [
      "ループ回数 : 7\n"
     ]
    },
    {
     "data": {
      "image/png": "[encoded data removed]",
      "text/plain": [
       "<Figure size 432x288 with 1 Axes>"
      ]
     },
     "metadata": {},
     "output_type": "display_data"
    }
   ],
   "source": [
    "n_tau = 101\n",
    "beta = 40\n",
    "tau = np.linspace(0, beta, n_tau)\n",
    "n_w = np.arange(-1000,1001)\n",
    "w = np.pi*(2*n_w+1)/beta\n",
    "\n",
    "#自己無撞着計算の1回分の計算を行う関数を定義\n",
    "\n",
    "def S_iw_to_S_iw_new(S_iw,U):\n",
    "    '''\n",
    "    S_iw_new(S_iw,U)\n",
    "    S_iw:自己エネルギーΣ_f(iω_n),  U:相互作用の大きさ\n",
    "    \n",
    "    '''\n",
    "    \n",
    "    #(3)式の積分計算を2重指数関数型積分で行う。\n",
    "    \n",
    "    h = 1/200                  #刻み幅\n",
    "    K = np.arange(-1000,1001)  #和の打ち切り範囲\n",
    "    G_matrix = 1/(np.fromfunction(lambda n,k:1j*w[n]-2*np.tanh(np.pi/2*np.sinh(K[k]*h)), \\\n",
    "                                  (len(w),len(K)),dtype = int) - S_iw)\n",
    "    w_vector=np.cosh(K*h)/((np.cosh(np.pi/2*np.sinh(K*h)))**3)\n",
    "    G_iw = h*np.dot(G_matrix,w_vector)\n",
    "    \n",
    "    assert G_iw.shape == (len(w),)\n",
    "    \n",
    "    #(1)式を用いてg(iω_n)を導く。\n",
    "    \n",
    "    g_iw = 1/(1/G_iw + S_iw)\n",
    "    \n",
    "    assert g_iw.shape == (len(w),)\n",
    "    \n",
    "    #フーリエ級数をとってg(iω_n)⇒g(τ)に。\n",
    "    \n",
    "    exp_matrix = np.fromfunction(lambda t,n : np.exp(-1j*w[n]*tau[t]), (n_tau, len(w)),dtype=int )\n",
    "    g_tau = (1/beta)*np.dot(exp_matrix, g_iw-1/(1j*w)) - 1/2\n",
    "    \n",
    "    assert g_tau.shape == (n_tau,)\n",
    "    \n",
    "    #(4)式によりΣ_f(τ)を導く。\n",
    "    \n",
    "    S_tau = (U**2)*(g_tau**2)*(g_tau[::-1])\n",
    "    \n",
    "    #Σ(τ)を3次スプライン補間\n",
    "    \n",
    "    S_tau_func = interp1d(tau, S_tau, kind=\"cubic\")\n",
    "    \n",
    "    #Σ(τ)を（台形則による）フーリエ変換でΣ_f(iω_n)へ\n",
    "    \n",
    "    N = 10001 #分割数\n",
    "    tau_new = np.delete(np.linspace(1, beta, N),N-1)\n",
    "    S = S_tau_func(tau_new)\n",
    "    exp_matrix = np.fromfunction(lambda n,t : np.exp(1j*w[n]*tau_new[t]), (len(w), N-1),dtype=int )\n",
    "    S_iw_new = beta/(N-1)*np.dot(exp_matrix, S)\n",
    "    \n",
    "    assert S_iw_new.shape == (len(w),)\n",
    "    \n",
    "    return S_iw_new\n",
    "    \n",
    "    \n",
    "\n",
    "#自己無撞着計算をする関数を定義。\n",
    "\n",
    "def recur(U,k=0) :\n",
    "    '''\n",
    "    recur(U,k=0)\n",
    "    U:相互作用,  k:混ざり具合(0≦k≦1)\n",
    "    \n",
    "    '''\n",
    "    \n",
    "    #Σ_f(iω_n)をゼロに初期化。\n",
    "    \n",
    "    S_iw = np.zeros_like(w)\n",
    "    \n",
    "    for i in range(100) :  #ループ回数の上限を100回とする。\n",
    "        \n",
    "        S_iw_new = (1-k)*S_iw_to_S_iw_new(S_iw,U) + k*S_iw\n",
    "        \n",
    "        #ループ5回以上、かつすべての要素の誤差が閾値以下ならループを抜け出す。\n",
    "        \n",
    "        if i>5 and np.all(abs( (S_iw_new-S_iw).imag/max(S_iw_new).imag ) < 0.001 )  :\n",
    "            print('ループ回数 :',i+1)\n",
    "            return S_iw_new\n",
    "            break\n",
    "        \n",
    "        S_iw = S_iw_new\n",
    "        \n",
    "    else :\n",
    "        print('収束せず')\n",
    "        return S_iw_new\n",
    "       \n",
    "        \n",
    "S_iw_U1 = recur(U=1)\n",
    "\n",
    "plt.plot(w, S_iw_U1.imag, label='imag', marker='.')\n",
    "plt.xlabel('w')\n",
    "plt.ylabel('Σ_f(iω_n)')\n",
    "plt.legend()\n",
    "plt.show()"
   ]
  },
  {
   "cell_type": "code",
   "execution_count": 89,
   "metadata": {},
   "outputs": [
    {
     "name": "stdout",
     "output_type": "stream",
     "text": [
      "ループ回数 : 11\n",
      "収束せず\n",
      "収束せず\n",
      "ループ回数 : 30\n",
      "収束せず\n"
     ]
    },
    {
     "data": {
      "image/png": "[encoded data removed]",
      "text/plain": [
       "<Figure size 432x288 with 1 Axes>"
      ]
     },
     "metadata": {},
     "output_type": "display_data"
    }
   ],
   "source": [
    "S_iw_matrix = S_iw_U1\n",
    "\n",
    "# U=2からU=6の場合も計算\n",
    "\n",
    "for u in range(2,6) :\n",
    "    S_iw_matrix = np.vstack( (S_iw_matrix , recur(U=u,k=0.3)) )\n",
    "\n",
    "# U=10の場合も計算\n",
    "\n",
    "S_iw_matrix = np.vstack( (S_iw_matrix,recur(U=10)) )\n",
    "\n",
    "plt.plot(w, S_iw_matrix.imag[0,:], label='U=1', marker='.')\n",
    "plt.plot(w, S_iw_matrix.imag[1,:], label='U=2', marker='.')\n",
    "plt.plot(w, S_iw_matrix.imag[2,:], label='U=3', marker='.')\n",
    "plt.plot(w, S_iw_matrix.imag[3,:], label='U=4', marker='.')\n",
    "plt.plot(w, S_iw_matrix.imag[4,:], label='U=5', marker='.')\n",
    "plt.plot(w, S_iw_matrix.imag[5,:], label='U=10', marker='.')\n",
    "plt.xlabel('w')\n",
    "plt.ylabel('Σ_f(iω_n)')\n",
    "plt.legend()\n",
    "plt.show()"
   ]
  },
  {
   "cell_type": "code",
   "execution_count": 90,
   "metadata": {},
   "outputs": [
    {
     "data": {
      "image/png": "[encoded data removed]",
      "text/plain": [
       "<Figure size 432x288 with 1 Axes>"
      ]
     },
     "metadata": {},
     "output_type": "display_data"
    }
   ],
   "source": [
    "# w>0 \n",
    "\n",
    "plt.plot(w, S_iw_matrix.imag[0,:], label='U=1', marker='.')\n",
    "plt.plot(w, S_iw_matrix.imag[1,:], label='U=2', marker='.')\n",
    "plt.plot(w, S_iw_matrix.imag[2,:], label='U=3', marker='.')\n",
    "plt.plot(w, S_iw_matrix.imag[3,:], label='U=4', marker='.')\n",
    "plt.plot(w, S_iw_matrix.imag[4,:], label='U=5', marker='.')\n",
    "plt.plot(w, S_iw_matrix.imag[5,:], label='U=10', marker='.')\n",
    "plt.xlabel('w')\n",
    "plt.ylabel('Σ_f(iω_n)')\n",
    "plt.xlim([0,20])\n",
    "plt.ylim([-4,1])\n",
    "plt.legend()\n",
    "plt.show()"
   ]
  },
  {
   "cell_type": "code",
   "execution_count": null,
   "metadata": {},
   "outputs": [],
   "source": [
    "U = np.array([1,2,3,4,5,10])\n",
    "w_0 = np.pi/beta\n",
    "z = 1/(1 - S_iw_matrix[:,1001:1002].imag/w_0)\n",
    "print(w_0)\n",
    "print(z)\n",
    "plt.plot(U,z,marker=\".\") \n",
    "plt.xlabel(\"U\")\n",
    "plt.ylabel(\"z\")\n",
    "plt.show()"
   ]
  },
  {
   "cell_type": "code",
   "execution_count": null,
   "metadata": {},
   "outputs": [],
   "source": []
  }
 ],
 "metadata": {
  "kernelspec": {
   "display_name": "Python 3",
   "language": "python",
   "name": "python3"
  },
  "language_info": {
   "codemirror_mode": {
    "name": "ipython",
    "version": 3
   },
   "file_extension": ".py",
   "mimetype": "text/x-python",
   "name": "python",
   "nbconvert_exporter": "python",
   "pygments_lexer": "ipython3",
   "version": "3.6.6"
  }
 },
 "nbformat": 4,
 "nbformat_minor": 2
}
