{
 "cells": [
  {
   "cell_type": "markdown",
   "metadata": {},
   "source": [
    "一般に\n",
    "$$\\begin{equation}\n",
    "G(i\\omega_n)=\\int_{-\\infty}^{\\infty}d\\epsilon' \\frac{\\rho(\\epsilon')}{i\\omega_n-\\epsilon'}\n",
    "\\tag{5}\n",
    "\\end{equation}$$\n",
    "が成立。  \n",
    "(1)式は\n",
    "$$\\rho(\\epsilon')=\\delta(\\epsilon'-\\epsilon)$$\n",
    "の場合。  \n",
    "今度は、\n",
    "$$\\rho(\\epsilon')=\\sqrt{4-\\epsilon'^2}$$\n",
    "とした場合を考える。  \n",
    "これは半径２の半円であり $\\epsilon'<-2$ および $\\epsilon'>2$ では $\\rho(\\epsilon')=0$とする。  \n",
    "このとき(5)式は（積分範囲に注目）\n",
    "$$\\begin{eqnarray}\n",
    "G(i\\omega_n) &=& \\int_{-2}^{2}d\\epsilon' \\frac{\\rho(\\epsilon')}{i\\omega_n-\\epsilon'} \\\\\n",
    "&=& \\int_{-1}^{1}2dx \\frac{\\rho(2x)}{i\\omega_n-2x} \\\\\n",
    "&=& 4\\int_{-1}^{1}dx \\frac{\\sqrt{1-x^2}}{i\\omega_n-2x}\n",
    "\\tag{6}\n",
    "\\end{eqnarray}$$\n",
    "(6)をガウスルジャンドルで数値積分する。"
   ]
  },
  {
   "cell_type": "code",
   "execution_count": 7,
   "metadata": {},
   "outputs": [
    {
     "name": "stdout",
     "output_type": "stream",
     "text": [
      "Help on function int_gauss in module 数値積分:\n",
      "\n",
      "int_gauss(func, a, b, n)\n",
      "    int_gauss(func,a,b,n)\n",
      "    渡された関数funcをガウス・ルジャンドル積分した結果を返す。\n",
      "    a,bはそれぞれ積分の下端と上端。nは分割数。\n",
      "\n"
     ]
    }
   ],
   "source": [
    "import numpy as np\n",
    "from matplotlib import pyplot as plt\n",
    "import 数値積分 as my_int\n",
    "help(my_int.int_gauss)"
   ]
  },
  {
   "cell_type": "code",
   "execution_count": 29,
   "metadata": {},
   "outputs": [
    {
     "data": {
      "image/png": "[encoded data removed]",
      "text/plain": [
       "<Figure size 432x288 with 1 Axes>"
      ]
     },
     "metadata": {},
     "output_type": "display_data"
    }
   ],
   "source": [
    "n_w = np.arange(-100,101)      # グラフに表示するnの範囲を設定\n",
    "beta = 100                     #βの大きさを設定\n",
    "G_iw_gauss = np.empty((len(n_w),),dtype=np.complex)\n",
    "for n in n_w :\n",
    "    w = np.pi*(2*n+1)/beta       # 松原周波数ω_nを設定\n",
    "    func = lambda x : 4*np.sqrt(1-x**2)/(w*1j-2*x)\n",
    "    G_iw_gauss[n+len(n_w)//2] = my_int.int_gauss(func,-1,1,100)\n",
    "\n",
    "plt.plot(n_w, G_iw_gauss.real, label='real', marker='.')\n",
    "plt.plot(n_w, G_iw_gauss.imag, label='imag', marker='.')\n",
    "plt.xlabel('n')\n",
    "plt.ylabel('G (iω_n)')\n",
    "plt.legend()\n",
    "plt.show()"
   ]
  },
  {
   "cell_type": "markdown",
   "metadata": {},
   "source": [
    "次に、同じことをガウス・ルジャンドルでなく2重指数関数型積分で行う。"
   ]
  },
  {
   "cell_type": "code",
   "execution_count": 18,
   "metadata": {},
   "outputs": [
    {
     "name": "stdout",
     "output_type": "stream",
     "text": [
      "Help on function int_DE in module 数値積分:\n",
      "\n",
      "int_DE(func, a, b, n, N)\n",
      "    int_DE(func,a,b,n,N)\n",
      "    渡された関数funcを2重指数関数型積分した結果を返す。\n",
      "    a,bはそれぞれ積分の下端と上端。nは分割数。和の範囲は第N項で打ち切る。\n",
      "\n"
     ]
    }
   ],
   "source": [
    "help(my_int.int_DE)"
   ]
  },
  {
   "cell_type": "code",
   "execution_count": 31,
   "metadata": {},
   "outputs": [
    {
     "data": {
      "image/png": "[encoded data removed]",
      "text/plain": [
       "<Figure size 432x288 with 1 Axes>"
      ]
     },
     "metadata": {},
     "output_type": "display_data"
    }
   ],
   "source": [
    "G_iw_DE = np.empty((len(n_w),),dtype=np.complex)\n",
    "for n in n_w :\n",
    "    w = np.pi*(2*n+1)/beta       # 松原周波数ω_nを設定\n",
    "    func = lambda x : 4*np.sqrt(1-x**2)/(w*1j-2*x)\n",
    "    G_iw_DE[n+len(n_w)//2] = my_int.int_DE(func,-1,1,100,100)\n",
    "\n",
    "plt.plot(n_w, G_iw_DE.real, label='real', marker='.')\n",
    "plt.plot(n_w, G_iw_DE.imag, label='imag', marker='.')\n",
    "plt.xlabel('n')\n",
    "plt.ylabel('G (iω_n)')\n",
    "plt.legend()\n",
    "plt.show()"
   ]
  },
  {
   "cell_type": "code",
   "execution_count": null,
   "metadata": {},
   "outputs": [],
   "source": []
  }
 ],
 "metadata": {
  "kernelspec": {
   "display_name": "Python 3",
   "language": "python",
   "name": "python3"
  },
  "language_info": {
   "codemirror_mode": {
    "name": "ipython",
    "version": 3
   },
   "file_extension": ".py",
   "mimetype": "text/x-python",
   "name": "python",
   "nbconvert_exporter": "python",
   "pygments_lexer": "ipython3",
   "version": "3.6.6"
  }
 },
 "nbformat": 4,
 "nbformat_minor": 2
}
